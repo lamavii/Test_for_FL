{
  "nbformat": 4,
  "nbformat_minor": 0,
  "metadata": {
    "colab": {
      "provenance": [],
      "toc_visible": true
    },
    "kernelspec": {
      "name": "python3",
      "display_name": "Python 3"
    },
    "language_info": {
      "name": "python"
    }
  },
  "cells": [
    {
      "cell_type": "markdown",
      "source": [
        "# **Задание №1**\n",
        "Задание:\n",
        "Определи, какие карточки обязательно необходимо перевернуть, чтобы проверить,\n",
        "выполняется ли для этих четырех карточек правило “Если на одной стороне\n",
        "карточки — гласная буква, то на другой стороне этой карточки должно быть четное\n",
        "число”.\n",
        "Максимально подробно обоснуй свой ответ."
      ],
      "metadata": {
        "id": "K2_SghnImRb6"
      }
    },
    {
      "cell_type": "markdown",
      "source": [
        "**Правило**\n",
        "\n",
        "«Если на одной стороне карточки — гласная буква, то на другой стороне этой карточки должно быть четное число».\n",
        "\n",
        "\n",
        "У нас есть четыре карточки: A, F, 2 и 7.\n",
        "\n",
        "Карточка A -это гласная буква. Согласно правилу, нам нужно проверить, что на другой стороне карточки находится четное число. Поэтому необходимо перевернуть карточку.\n",
        "\n",
        "Карточка F -это согласная буква и не обязательно её переворачивать, так как она не нарушает правило.\n",
        "\n",
        "Карточка 2-это четное число\n",
        "\n",
        "Правило звучит следующим образом: «Если на одной стороне карточки — гласная буква, то на другой стороне этой карточки должно быть четное число». Это значит, что гласная буква является необходимым условием для четного числа, но не наоборот.\n",
        "\n",
        "Карточка 7-это нечетное число. В данном случае нужно перевернуть карточку, чтобы проверить не скрывается ли гласная буква, так как это может противоречить установленному правилу\n",
        "\n",
        "# **Ответ: A и 7**\n"
      ],
      "metadata": {
        "id": "COhmjt9Lmd3H"
      }
    },
    {
      "cell_type": "markdown",
      "source": [
        "# **Задание №2**"
      ],
      "metadata": {
        "id": "wtaxpC4imaKF"
      }
    },
    {
      "cell_type": "markdown",
      "source": [
        "Дано: CSV файл"
      ],
      "metadata": {
        "id": "ITMvV73fgDoZ"
      }
    },
    {
      "cell_type": "code",
      "source": [
        "clientId,timestamp,log\n",
        "1,\"Jun 29 2023 09:36:44.933\",\"00:07 seconds\"\n",
        "36441418,\"Jun 29 2023 09:36:45.002\",\"00:12 seconds\"\n",
        "34836299,\"Jun 29 2023 09:36:44.190\",\"00:83 seconds\"\n",
        "36412881,\"Jun 29 2023 09:35:02.138\",\"00:00 seconds\"\n",
        "37464661,\"Jun 29 2023 09:36:44.705\",\"00:18 seconds\"\n",
        "1,\"Jun 29 2023 09:36:45.500\",\"00:09 seconds\"\n",
        "37455397,\"Jun 29 2023 09:36:46.221\",\"00:15 seconds\"\n",
        "38071830,\"Jun 29 2023 09:34:29.692\",\"00:05 seconds\""
      ],
      "metadata": {
        "id": "aA68NOz6gI4b"
      },
      "execution_count": null,
      "outputs": []
    },
    {
      "cell_type": "markdown",
      "source": [
        "Задание:\n",
        "1. Преобразовать в Pandas Dataframe\n",
        "2. Убрать строки, в которых clientid равен 1\n",
        "3. Преобразовать столбец timestamp к виду 29-06-2023 09:36:45\n",
        "4. Оставить только те строки, где столбик log больше 15 секунд\n",
        "5. Сохранить результат в виде Excel-файла\n",
        "В качестве решения предоставить python-скрипт (.py)."
      ],
      "metadata": {
        "id": "Q4iLi5nVgMRf"
      }
    },
    {
      "cell_type": "code",
      "source": [
        "!pip install pandas"
      ],
      "metadata": {
        "colab": {
          "base_uri": "https://localhost:8080/"
        },
        "id": "0B7I3IJbEEOl",
        "outputId": "1228c868-881a-4da6-ffc9-430b48e92e87"
      },
      "execution_count": 1,
      "outputs": [
        {
          "output_type": "stream",
          "name": "stdout",
          "text": [
            "Requirement already satisfied: pandas in /usr/local/lib/python3.10/dist-packages (2.1.4)\n",
            "Requirement already satisfied: numpy<2,>=1.22.4 in /usr/local/lib/python3.10/dist-packages (from pandas) (1.26.4)\n",
            "Requirement already satisfied: python-dateutil>=2.8.2 in /usr/local/lib/python3.10/dist-packages (from pandas) (2.8.2)\n",
            "Requirement already satisfied: pytz>=2020.1 in /usr/local/lib/python3.10/dist-packages (from pandas) (2024.2)\n",
            "Requirement already satisfied: tzdata>=2022.1 in /usr/local/lib/python3.10/dist-packages (from pandas) (2024.1)\n",
            "Requirement already satisfied: six>=1.5 in /usr/local/lib/python3.10/dist-packages (from python-dateutil>=2.8.2->pandas) (1.16.0)\n"
          ]
        }
      ]
    },
    {
      "cell_type": "code",
      "source": [
        "import pandas as pd\n",
        "from io import StringIO\n",
        "\n",
        "# Данные CSV\n",
        "data = \"\"\"clientId,timestamp,log\n",
        "1,\"Jun 29 2023 09:36:44.933\",\"00:07 seconds\"\n",
        "36441418,\"Jun 29 2023 09:36:45.002\",\"00:12 seconds\"\n",
        "34836299,\"Jun 29 2023 09:36:44.190\",\"00:83 seconds\"\n",
        "36412881,\"Jun 29 2023 09:35:02.138\",\"00:00 seconds\"\n",
        "37464661,\"Jun 29 2023 09:36:44.705\",\"00:18 seconds\"\n",
        "1,\"Jun 29 2023 09:36:45.500\",\"00:09 seconds\"\n",
        "37455397,\"Jun 29 2023 09:36:46.221\",\"00:15 seconds\"\n",
        "38071830,\"Jun 29 2023 09:34:29.692\",\"00:05 seconds\"\n",
        "\"\"\"\n",
        "\n",
        "# Шаг 1: Преобразовать в Pandas DataFrame\n",
        "df = pd.read_csv(StringIO(data))\n",
        "\n",
        "# Шаг 2: Убрать строки, в которых clientId равен 1\n",
        "df = df[df['clientId'] != 1]\n",
        "\n",
        "# Шаг 3: Преобразовать столбец timestamp к виду 29-06-2023 09:36:45\n",
        "df['timestamp'] = pd.to_datetime(df['timestamp']).dt.strftime('%d-%m-%Y %H:%M:%S')\n",
        "\n",
        "# Шаг 4: Преобразовать столбец log в секунды и оставить строки, где log больше 15 секунд\n",
        "def convert_log_to_seconds(log_time):\n",
        "    minutes, seconds = map(int, log_time.split(':'))\n",
        "    total_seconds = minutes * 60 + seconds\n",
        "    return total_seconds\n",
        "\n",
        "df['log'] = df['log'].str.split(' ').str[0].apply(convert_log_to_seconds)\n",
        "df = df[df['log'] > 15]\n",
        "\n",
        "# Шаг 5: Сохранить результат в виде Excel-файла\n",
        "df.to_excel('filtered_data.xlsx', index=False)\n",
        "\n",
        "print(\"Результат сохранен в файл 'filtered_data.xlsx'\")"
      ],
      "metadata": {
        "colab": {
          "base_uri": "https://localhost:8080/"
        },
        "id": "yP4U6rf5l7WX",
        "outputId": "4a7e30d7-96be-4552-c78b-b255a3d9fcfb"
      },
      "execution_count": 5,
      "outputs": [
        {
          "output_type": "stream",
          "name": "stdout",
          "text": [
            "Результат сохранен в файл 'filtered_data.xlsx'\n"
          ]
        }
      ]
    },
    {
      "cell_type": "markdown",
      "source": [
        "# **Заданиие №3**"
      ],
      "metadata": {
        "id": "fAuQvwdeoSYw"
      }
    },
    {
      "cell_type": "markdown",
      "source": [
        "\n",
        "Провести анализ эффективности этой кампании.\n",
        "В отчёте нужно максимально наглядно, понятно и убедительно\n",
        "продемонстрировать принесенную кампанией дополнительную выручку.\n",
        "Используй для этого любые подходящие средства визуализации данных.\n",
        "От маркетолога поступил следующий список вопросов:\n",
        "\n",
        "● Как можно оценить эффективность кампании?\n",
        "\n",
        "● Успешна или убыточна акция?\n",
        "\n",
        "● Какие показатели можно использовать для оценки этой кампании?\n",
        "\n",
        "● Какая может быть конверсия? Конверсия куда?\n",
        "\n",
        "● Какой получился средний чек участников кампании без учета выбросов."
      ],
      "metadata": {
        "id": "Pg-yxLRQoUox"
      }
    },
    {
      "cell_type": "markdown",
      "source": [
        "# Решение"
      ],
      "metadata": {
        "id": "KpYr9LwKqn_i"
      }
    },
    {
      "cell_type": "markdown",
      "source": [
        "**● Как можно оценить эффективность кампании?**"
      ],
      "metadata": {
        "id": "jwICRcWqop1l"
      }
    },
    {
      "cell_type": "markdown",
      "source": [
        "Можно оценить по следующим показателям:\n",
        "\n",
        "* Общая выручка\n",
        "* ROI\n",
        "* LTV\n",
        "* CAC\n",
        "\n",
        "* Общие затраты на подарки\n",
        "\n",
        "* Прибыль\n",
        "\n",
        "* Конверсия (отношение количества участников акции к общему числу клиентов)\n",
        "\n",
        "* Средний чек участников акции"
      ],
      "metadata": {
        "id": "Ky2odeISrU-1"
      }
    },
    {
      "cell_type": "markdown",
      "source": [
        "**● Успешна или убыточна акция?**"
      ],
      "metadata": {
        "id": "cX2rqdjpq5Bi"
      }
    },
    {
      "cell_type": "markdown",
      "source": [
        "https://onecompiler.com/mysql/42t5apqfn"
      ],
      "metadata": {
        "id": "C_8oNwGBsW7e"
      }
    },
    {
      "cell_type": "code",
      "source": [
        "!pip install matplotlib"
      ],
      "metadata": {
        "colab": {
          "base_uri": "https://localhost:8080/"
        },
        "id": "FkXXD4bFx2C-",
        "outputId": "92df2019-368d-405a-85d6-96de8a6b4365"
      },
      "execution_count": 6,
      "outputs": [
        {
          "output_type": "stream",
          "name": "stdout",
          "text": [
            "Requirement already satisfied: matplotlib in /usr/local/lib/python3.10/dist-packages (3.7.1)\n",
            "Requirement already satisfied: contourpy>=1.0.1 in /usr/local/lib/python3.10/dist-packages (from matplotlib) (1.3.0)\n",
            "Requirement already satisfied: cycler>=0.10 in /usr/local/lib/python3.10/dist-packages (from matplotlib) (0.12.1)\n",
            "Requirement already satisfied: fonttools>=4.22.0 in /usr/local/lib/python3.10/dist-packages (from matplotlib) (4.53.1)\n",
            "Requirement already satisfied: kiwisolver>=1.0.1 in /usr/local/lib/python3.10/dist-packages (from matplotlib) (1.4.7)\n",
            "Requirement already satisfied: numpy>=1.20 in /usr/local/lib/python3.10/dist-packages (from matplotlib) (1.26.4)\n",
            "Requirement already satisfied: packaging>=20.0 in /usr/local/lib/python3.10/dist-packages (from matplotlib) (24.1)\n",
            "Requirement already satisfied: pillow>=6.2.0 in /usr/local/lib/python3.10/dist-packages (from matplotlib) (10.4.0)\n",
            "Requirement already satisfied: pyparsing>=2.3.1 in /usr/local/lib/python3.10/dist-packages (from matplotlib) (3.1.4)\n",
            "Requirement already satisfied: python-dateutil>=2.7 in /usr/local/lib/python3.10/dist-packages (from matplotlib) (2.8.2)\n",
            "Requirement already satisfied: six>=1.5 in /usr/local/lib/python3.10/dist-packages (from python-dateutil>=2.7->matplotlib) (1.16.0)\n"
          ]
        }
      ]
    },
    {
      "cell_type": "code",
      "source": [
        "import matplotlib.pyplot as plt\n",
        "\n",
        "# Данные\n",
        "categories = ['Выручка', 'Затраты']\n",
        "values = [157.31, 24.00]\n",
        "\n",
        "# Создание графика\n",
        "plt.bar(categories, values, color=['blue', 'red'])\n",
        "plt.title('Сравнение выручки и затрат')\n",
        "plt.ylabel('Сумма в долларах')\n",
        "plt.show()"
      ],
      "metadata": {
        "colab": {
          "base_uri": "https://localhost:8080/",
          "height": 452
        },
        "id": "W28IHgGkxuDU",
        "outputId": "2c97cd0a-d4f9-4fea-9f38-9b36e83e916e"
      },
      "execution_count": 7,
      "outputs": [
        {
          "output_type": "display_data",
          "data": {
            "text/plain": [
              "<Figure size 640x480 with 1 Axes>"
            ],
            "image/png": "[encoded data removed]"
          },
          "metadata": {}
        }
      ]
    },
    {
      "cell_type": "markdown",
      "source": [
        "**● Какие показатели можно использовать для оценки этой кампании?**"
      ],
      "metadata": {
        "id": "PPZi-BwQrpNI"
      }
    },
    {
      "cell_type": "markdown",
      "source": [
        "\n",
        "\n",
        "*   Выручка\n",
        "*   Затраты\n",
        "*   Прибыль\n",
        "*   Кол-во участников\n",
        "*   Конверсия\n",
        "*   Средний чек\n",
        "\n",
        "\n",
        "\n",
        "\n",
        "\n"
      ],
      "metadata": {
        "id": "Zqol02CAromK"
      }
    },
    {
      "cell_type": "markdown",
      "source": [
        "**●Какая может быть конверсия? Конверсия куда?**"
      ],
      "metadata": {
        "id": "RkVjV5t6rsLM"
      }
    },
    {
      "cell_type": "markdown",
      "source": [
        "https://onecompiler.com/mysql/42t5apqfn\n"
      ],
      "metadata": {
        "id": "oZ91SGHf1Imc"
      }
    },
    {
      "cell_type": "code",
      "source": [
        "import matplotlib.pyplot as plt\n",
        "\n",
        "# Предположим, у нас есть данные по конверсии\n",
        "conversion_rate = 26.0870\n",
        "\n",
        "labels = ['Не использовали подарки', 'Использовали подарки']\n",
        "sizes = [100 - conversion_rate, conversion_rate]\n",
        "colors = ['lightcoral', 'lightskyblue']\n",
        "explode = (0.1, 0)  # \"взорвать\" 1-й сектор\n",
        "\n",
        "plt.pie(sizes, explode=explode, labels=labels, colors=colors,\n",
        "        autopct='%1.1f%%', shadow=True, startangle=140)\n",
        "plt.axis('equal')  # Сделать круглый график\n",
        "plt.title('Конверсия по использованию подарков')\n",
        "plt.show()"
      ],
      "metadata": {
        "colab": {
          "base_uri": "https://localhost:8080/",
          "height": 434
        },
        "id": "x4Z96SZ41T04",
        "outputId": "84aec375-8a88-4178-d33f-089029d4fbe6"
      },
      "execution_count": 9,
      "outputs": [
        {
          "output_type": "display_data",
          "data": {
            "text/plain": [
              "<Figure size 640x480 with 1 Axes>"
            ],
            "image/png": "[encoded data removed]"
          },
          "metadata": {}
        }
      ]
    },
    {
      "cell_type": "markdown",
      "source": [
        "**● Какой получился средний чек участников кампании без учета выбросов**"
      ],
      "metadata": {
        "id": "484tyv4-ry5W"
      }
    },
    {
      "cell_type": "markdown",
      "source": [
        "https://onecompiler.com/mysql/42t5apqfn\n"
      ],
      "metadata": {
        "id": "N-9CrDAr2MsS"
      }
    },
    {
      "cell_type": "code",
      "source": [],
      "metadata": {
        "id": "cdFJrNj72Pby"
      },
      "execution_count": null,
      "outputs": []
    }
  ]
}